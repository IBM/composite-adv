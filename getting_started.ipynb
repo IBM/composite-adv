{
 "cells": [
  {
   "cell_type": "markdown",
   "id": "923cc6d7",
   "metadata": {},
   "source": [
    "# Composite-Adv Demonstration\n",
    "![CAA Flow](figures/CAA_Flow.png)\n",
    "This notebook provides a step-by-step demonstration showing how to launch our composite adversarial attack (CAA). We use the CIFAR-10 dataset for demonstration, while other datasets could be executed similarly."
   ]
  },
  {
   "cell_type": "markdown",
   "id": "4108abaf",
   "metadata": {},
   "source": [
    "## I. Parameters Configuration"
   ]
  },
  {
   "cell_type": "code",
   "execution_count": 1,
   "id": "31432eba",
   "metadata": {},
   "outputs": [],
   "source": [
    "PARAMS = {\n",
    "    'seed': 0,\n",
    "    'dataset': {\n",
    "        'name': 'cifar10',\n",
    "        'root': '../data/',\n",
    "        'batch_size': 128,\n",
    "        'normalize': {\n",
    "            # CIFAR10\n",
    "            'mean': [0.4914, 0.4822, 0.4465],\n",
    "            'std': [0.2023, 0.1994, 0.2010],\n",
    "            # ImageNet\n",
    "            # 'mean': [0.485, 0.456, 0.406],\n",
    "            # 'std': [0.229, 0.224, 0.225],\n",
    "        }\n",
    "    },\n",
    "    'model':{ \n",
    "        'madry':{ # Madry's Robust Model\n",
    "            'arch': 'resnet50',\n",
    "            'normalize': True,\n",
    "            'checkpoint': '../GAT/pretrained_model/cifar_madry_resnet50_linf_8.pt', # download from https://github.com/MadryLab/robustness\n",
    "        },\n",
    "        'trades':{ # Trades' Robust Model\n",
    "            'arch': 'wideresnet',\n",
    "            'normalize': False,\n",
    "            'checkpoint': '../GAT/pretrained_model/cifar_trades_wideresnet34_10_linf_8.pt', # download from https://github.com/yaodongyu/TRADES\n",
    "        },\n",
    "    },\n",
    "}"
   ]
  },
  {
   "cell_type": "code",
   "execution_count": 2,
   "id": "e95a053c",
   "metadata": {},
   "outputs": [],
   "source": [
    "import torch, numpy, random\n",
    "torch.manual_seed(PARAMS['seed'])\n",
    "numpy.random.seed(PARAMS['seed'])\n",
    "random.seed(PARAMS['seed'])\n",
    "torch.backends.cudnn.deterministic = True"
   ]
  },
  {
   "cell_type": "markdown",
   "id": "9d97ef70",
   "metadata": {},
   "source": [
    "## II. Dataset"
   ]
  },
  {
   "cell_type": "code",
   "execution_count": 3,
   "id": "d574e2a2",
   "metadata": {
    "scrolled": false
   },
   "outputs": [
    {
     "name": "stdout",
     "output_type": "stream",
     "text": [
      "Files already downloaded and verified\n"
     ]
    }
   ],
   "source": [
    "from composite_adv.utilities import make_dataloader\n",
    "# load dataset\n",
    "data_loader = make_dataloader(PARAMS['dataset']['root'], PARAMS['dataset']['name'], transform=None, batch_size=PARAMS['dataset']['batch_size'], shuffle=True)"
   ]
  },
  {
   "cell_type": "markdown",
   "id": "05ab346e",
   "metadata": {},
   "source": [
    "## III. Select Models"
   ]
  },
  {
   "cell_type": "markdown",
   "id": "7903f77c",
   "metadata": {},
   "source": [
    "### 1. Madry's $\\ell_\\infty$-robust model"
   ]
  },
  {
   "cell_type": "code",
   "execution_count": 4,
   "id": "dc0689b5",
   "metadata": {},
   "outputs": [
    {
     "name": "stdout",
     "output_type": "stream",
     "text": [
      "=> loaded checkpoint '../GAT/pretrained_model/cifar_madry_resnet50_linf_8.pt' (epoch 153)\n",
      "Natural accuracy --> 87.02999877929688\n",
      "Robust accuracy --> 55.029998779296875\n"
     ]
    }
   ],
   "source": [
    "from composite_adv.utilities import make_madry_model, EvalModel\n",
    "# load model\n",
    "base_model = make_madry_model(PARAMS['model']['madry']['arch'],\n",
    "                              PARAMS['dataset']['name'],\n",
    "                              checkpoint_path=PARAMS['model']['madry']['checkpoint'])\n",
    "\n",
    "# Normalizer\n",
    "model = EvalModel(base_model,\n",
    "                  normalize_param=PARAMS['dataset']['normalize'],\n",
    "                  input_normalized=PARAMS['model']['madry']['normalize'])\n",
    "\n",
    "# Send to GPU\n",
    "import torch\n",
    "if not torch.cuda.is_available():\n",
    "    print('using CPU, this will be slow')\n",
    "else:\n",
    "    model.cuda()"
   ]
  },
  {
   "cell_type": "markdown",
   "id": "ced9a465",
   "metadata": {},
   "source": [
    "### 2. TRADES $\\ell_\\infty$-robust model"
   ]
  },
  {
   "cell_type": "code",
   "execution_count": 4,
   "id": "bc5205ed",
   "metadata": {},
   "outputs": [
    {
     "name": "stdout",
     "output_type": "stream",
     "text": [
      "=> loaded checkpoint '../GAT/pretrained_model/cifar_trades_wideresnet34_10_linf_8.pt'\n"
     ]
    }
   ],
   "source": [
    "from composite_adv.utilities import make_trades_model, EvalModel\n",
    "# load model\n",
    "base_model = make_trades_model(PARAMS['model']['trades']['arch'],\n",
    "                               PARAMS['dataset']['name'],\n",
    "                               checkpoint_path=PARAMS['model']['trades']['checkpoint'])\n",
    "\n",
    "# Normalizer\n",
    "model = EvalModel(base_model,\n",
    "                  normalize_param=PARAMS['dataset']['normalize'],\n",
    "                  input_normalized=PARAMS['model']['trades']['normalize'])\n",
    "\n",
    "# Send to GPU\n",
    "import torch\n",
    "if not torch.cuda.is_available():\n",
    "    print('using CPU, this will be slow')\n",
    "else:\n",
    "    model.cuda()"
   ]
  },
  {
   "cell_type": "markdown",
   "id": "3848fb6f",
   "metadata": {},
   "source": [
    "## IV. Evaluate Clean Accuracy"
   ]
  },
  {
   "cell_type": "code",
   "execution_count": null,
   "id": "afe6af91",
   "metadata": {
    "scrolled": true
   },
   "outputs": [],
   "source": [
    "from composite_adv.utilities import robustness_evaluate\n",
    "from composite_adv.attacks import NoAttack\n",
    "\n",
    "attack = NoAttack()\n",
    "robustness_evaluate(model, attack, data_loader)"
   ]
  },
  {
   "cell_type": "markdown",
   "id": "7155df46",
   "metadata": {},
   "source": [
    "## V. Evaluate Robust Accuracy\n",
    "\n",
    "**CAA Configuration**\n",
    "1. Attacks Pool Selection. For simpilicity, we use the following abbreviations to specify each attack types.\n",
    "   `0`: Hue, `1`: Saturation, `2`: Rotation, `3`: Brightness, `4`: Contrast, `5`: $\\ell_\\infty$\n",
    "\n",
    "2. Attack Ordering Specify. We provide three ordering options ['fixed','random','scheduled']\n",
    "\n",
    "**Setup**\n",
    "```python\n",
    "from composite_adv.attacks import CompositeAttack\n",
    "CompositeAttack(model, dataset=PARAMS['dataset']['name'], enabled_attack=(0,), order_schedule=\"fixed\")\n",
    "```"
   ]
  },
  {
   "cell_type": "code",
   "execution_count": null,
   "id": "5211deba",
   "metadata": {},
   "outputs": [],
   "source": [
    "from composite_adv.attacks import CompositeAttack\n",
    "from composite_adv.utilities import robustness_evaluate"
   ]
  },
  {
   "cell_type": "markdown",
   "id": "6f2171ee",
   "metadata": {},
   "source": [
    "###  1. Single Attack $\\text{CAA}_\\text{Hue}$"
   ]
  },
  {
   "cell_type": "code",
   "execution_count": null,
   "id": "0df4ed56",
   "metadata": {
    "scrolled": false
   },
   "outputs": [],
   "source": [
    "composite_attack = CompositeAttack(model, # The model to be attacked\n",
    "                                   dataset=PARAMS['dataset']['name'],\n",
    "                                   enabled_attack=(0,), # Abbr: 0: Hue, 1: Saturation, 2: Rotation, 3: Brightness, 4: Contrast, 5: L-infinity\n",
    "                                   order_schedule=\"fixed\") # Three ordering options ['fixed','random','scheduled']\n",
    "robustness_evaluate(model, composite_attack, data_loader)"
   ]
  },
  {
   "cell_type": "markdown",
   "id": "97761dd0",
   "metadata": {},
   "source": [
    "### 2. Three Attacks $\\text{CAA}_{3a}$ (Scheduled Order)"
   ]
  },
  {
   "cell_type": "code",
   "execution_count": null,
   "id": "e1dd1d79",
   "metadata": {
    "scrolled": true
   },
   "outputs": [],
   "source": [
    "composite_attack = CompositeAttack(model,\n",
    "                                   dataset=PARAMS['dataset']['name'],\n",
    "                                   enabled_attack=(0,1,5),\n",
    "                                   order_schedule=\"scheduled\")\n",
    "robustness_evaluate(model, composite_attack, data_loader)"
   ]
  },
  {
   "cell_type": "markdown",
   "id": "abd652cc",
   "metadata": {},
   "source": [
    "### 3. Semantic Attacks (Random Order)"
   ]
  },
  {
   "cell_type": "code",
   "execution_count": null,
   "id": "ff0cbfb2",
   "metadata": {
    "scrolled": true
   },
   "outputs": [],
   "source": [
    "composite_attack = CompositeAttack(model,\n",
    "                                   dataset=PARAMS['dataset']['name'],\n",
    "                                   enabled_attack=(0,1,2,3,4),\n",
    "                                   order_schedule=\"random\")\n",
    "robustness_evaluate(model, composite_attack, data_loader)"
   ]
  },
  {
   "cell_type": "markdown",
   "id": "bdb6e917",
   "metadata": {},
   "source": [
    "### 4. Full Attacks (Scheduled Order)"
   ]
  },
  {
   "cell_type": "code",
   "execution_count": null,
   "id": "c7d702c7",
   "metadata": {
    "scrolled": true
   },
   "outputs": [],
   "source": [
    "composite_attack = CompositeAttack(model,\n",
    "                                   dataset=PARAMS['dataset']['name'],\n",
    "                                   enabled_attack=(0,1,2,3,4,5),\n",
    "                                   order_schedule=\"scheduled\")\n",
    "robustness_evaluate(model, composite_attack, data_loader)"
   ]
  },
  {
   "cell_type": "code",
   "execution_count": null,
   "id": "b2b0a7cc",
   "metadata": {},
   "outputs": [],
   "source": []
  }
 ],
 "metadata": {
  "kernelspec": {
   "display_name": "Python 3 (ipykernel)",
   "language": "python",
   "name": "python3"
  },
  "language_info": {
   "codemirror_mode": {
    "name": "ipython",
    "version": 3
   },
   "file_extension": ".py",
   "mimetype": "text/x-python",
   "name": "python",
   "nbconvert_exporter": "python",
   "pygments_lexer": "ipython3",
   "version": "3.9.15"
  }
 },
 "nbformat": 4,
 "nbformat_minor": 5
}
